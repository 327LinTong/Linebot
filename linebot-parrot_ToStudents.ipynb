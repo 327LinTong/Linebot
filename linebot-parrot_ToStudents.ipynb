{
 "cells": [
  {
   "cell_type": "code",
   "execution_count": 2,
   "metadata": {},
   "outputs": [
    {
     "ename": "ModuleNotFoundError",
     "evalue": "No module named 'linebot'",
     "output_type": "error",
     "traceback": [
      "\u001b[1;31m---------------------------------------------------------------------------\u001b[0m",
      "\u001b[1;31mModuleNotFoundError\u001b[0m                       Traceback (most recent call last)",
      "\u001b[1;32m<ipython-input-2-aa78ed55e5ed>\u001b[0m in \u001b[0;36m<module>\u001b[1;34m\u001b[0m\n\u001b[0;32m      5\u001b[0m \u001b[1;31m#import flask\u001b[0m\u001b[1;33m\u001b[0m\u001b[1;33m\u001b[0m\u001b[1;33m\u001b[0m\u001b[0m\n\u001b[0;32m      6\u001b[0m \u001b[1;32mfrom\u001b[0m \u001b[0mflask\u001b[0m \u001b[1;32mimport\u001b[0m \u001b[0mFlask\u001b[0m\u001b[1;33m,\u001b[0m \u001b[0mrequest\u001b[0m\u001b[1;33m,\u001b[0m \u001b[0mabort\u001b[0m\u001b[1;33m\u001b[0m\u001b[1;33m\u001b[0m\u001b[0m\n\u001b[1;32m----> 7\u001b[1;33m \u001b[1;32mfrom\u001b[0m \u001b[0mlinebot\u001b[0m \u001b[1;32mimport\u001b[0m  \u001b[0mLineBotApi\u001b[0m\u001b[1;33m,\u001b[0m \u001b[0mWebhookHandler\u001b[0m\u001b[1;33m\u001b[0m\u001b[1;33m\u001b[0m\u001b[0m\n\u001b[0m\u001b[0;32m      8\u001b[0m \u001b[1;32mfrom\u001b[0m \u001b[0mlinebot\u001b[0m\u001b[1;33m.\u001b[0m\u001b[0mexceptions\u001b[0m \u001b[1;32mimport\u001b[0m \u001b[0mInvalidSignatureError\u001b[0m\u001b[1;33m\u001b[0m\u001b[1;33m\u001b[0m\u001b[0m\n\u001b[0;32m      9\u001b[0m \u001b[1;32mfrom\u001b[0m \u001b[0mlinebot\u001b[0m\u001b[1;33m.\u001b[0m\u001b[0mmodels\u001b[0m \u001b[1;32mimport\u001b[0m \u001b[0mMessageEvent\u001b[0m\u001b[1;33m,\u001b[0m \u001b[0mTextMessage\u001b[0m\u001b[1;33m,\u001b[0m \u001b[0mTextSendMessage\u001b[0m\u001b[1;33m\u001b[0m\u001b[1;33m\u001b[0m\u001b[0m\n",
      "\u001b[1;31mModuleNotFoundError\u001b[0m: No module named 'linebot'"
     ]
    }
   ],
   "source": [
    "#linebotTest1\n",
    "from flask import Flask\n",
    "app = Flask(__name__)\n",
    "\n",
    "#import flask\n",
    "from flask import Flask, request, abort\n",
    "from linebot import  LineBotApi, WebhookHandler\n",
    "from linebot.exceptions import InvalidSignatureError\n",
    "from linebot.models import MessageEvent, TextMessage, TextSendMessage\n",
    "\n",
    "line_bot_api = LineBotApi('UtpxVZgjb/MByfOChN0EEETLLIC90eTjYY/SDMLMLKKtX0o0yix7eYxAQDlcRazG40GZIENHdPHsAPRf4+5hy87netKdLBmM8xF2wJrVxbqSqA3/M3PFO4faqTEDe2LcY55pODx+vuszUm4KaxtX6wdB04t89/1O/w1cDnyilFU=')\n",
    "handler = WebhookHandler('58fe0183727e27112b24170a1dcdb67f')\n",
    "\n",
    "@app.route(\"/callback\", methods=['POST'])\n",
    "def callback():\n",
    "    signature = request.headers['X-Line-Signature']\n",
    "    body = request.get_data(as_text=True)\n",
    "    try:\n",
    "        handler.handle(body,signature)\n",
    "    except InvalidSignatureerror:\n",
    "        abort(400)\n",
    "    return 'OK '\n",
    "\n",
    "\n",
    "@handler.add(MessageEvent, message=TextMessage)\n",
    "def handle_message(event):\n",
    "    line_bot_api.reply_message(event.reply_token,TextSendMessage(text=event.message.text))\n",
    "\n",
    "if __name__ == '__main__':\n",
    "    app.run()"
   ]
  },
  {
   "cell_type": "code",
   "execution_count": null,
   "metadata": {},
   "outputs": [],
   "source": []
  }
 ],
 "metadata": {
  "kernelspec": {
   "display_name": "Python 3",
   "language": "python",
   "name": "python3"
  },
  "language_info": {
   "codemirror_mode": {
    "name": "ipython",
    "version": 3
   },
   "file_extension": ".py",
   "mimetype": "text/x-python",
   "name": "python",
   "nbconvert_exporter": "python",
   "pygments_lexer": "ipython3",
   "version": "3.8.10"
  }
 },
 "nbformat": 4,
 "nbformat_minor": 4
}
